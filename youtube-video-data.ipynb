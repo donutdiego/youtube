{
 "cells": [
  {
   "cell_type": "code",
   "execution_count": null,
   "metadata": {},
   "outputs": [],
   "source": [
    "#import libraries\n",
    "\n",
    "import requests\n",
    "import pandas as pd\n",
    "import time\n",
    "import credentials"
   ]
  },
  {
   "cell_type": "code",
   "execution_count": null,
   "metadata": {},
   "outputs": [],
   "source": [
    "#api key imported from separate file\n",
    "\n",
    "key = credentials.youtube"
   ]
  },
  {
   "cell_type": "code",
   "execution_count": null,
   "metadata": {},
   "outputs": [],
   "source": [
    "channel_id = input('Channel Id: ')"
   ]
  },
  {
   "cell_type": "code",
   "execution_count": null,
   "metadata": {},
   "outputs": [],
   "source": [
    "#extracting video statistics and returning values\n",
    "\n",
    "def get_video_stats(video_id):\n",
    "    url_stats = f'https://www.googleapis.com/youtube/v3/videos?key={key}&part=statistics&id={video_id}'\n",
    "    stats_api = requests.get(url_stats).json()\n",
    "\n",
    "    views = stats_api['items'][0]['statistics']['viewCount']\n",
    "    likes = stats_api['items'][0]['statistics']['likeCount']\n",
    "    comments = stats_api['items'][0]['statistics']['commentCount']\n",
    "\n",
    "    return views, likes, comments"
   ]
  },
  {
   "cell_type": "code",
   "execution_count": null,
   "metadata": {},
   "outputs": [],
   "source": [
    "#\n",
    "\n",
    "def get_video(df): #passing dataframe\n",
    "    pageToken = ''\n",
    "    while 1:\n",
    "        url_video = f'https://www.googleapis.com/youtube/v3/search?key={key}&channelId={channel_id}&part=snippet&type=video&order=date&maxResults=50&{pageToken}'\n",
    "        video_api = requests.get(url_video).json()\n",
    "\n",
    "        time.sleep(1.5)\n",
    "        for video in video_api['items'] :\n",
    "            channel_name = video['snippet']['channelTitle']\n",
    "            video_title = video['snippet']['title']\n",
    "            video_id = video['id']['videoId']\n",
    "            \n",
    "            views, likes, comments = get_video_stats(video_id)\n",
    "\n",
    "            temp_df = pd.DataFrame({\n",
    "            'channel_name' : [channel_name],\n",
    "            'video_title' : [video_title],\n",
    "            'video_id' : [video_id],\n",
    "            'views' : [views],\n",
    "            'likes' : [likes],\n",
    "            'comments' : [comments]})\n",
    "\n",
    "            df = pd.concat([df, temp_df], ignore_index=True)\n",
    "\n",
    "        try:\n",
    "            if video_api['nextPageToken'] != None:\n",
    "                pageToken = 'pageToken=' + video_api['nextPageToken']\n",
    "        except:\n",
    "            break\n",
    "\n",
    "    return df"
   ]
  },
  {
   "cell_type": "code",
   "execution_count": null,
   "metadata": {},
   "outputs": [],
   "source": [
    "#creating dataframe to pass through functions\n",
    "\n",
    "df = pd.DataFrame(columns=['channel_name','video_title','video_id','views','likes','comments','pos_sentiment','neutral','neg_sentiment'])\n",
    "\n",
    "df2 = get_video(df)"
   ]
  },
  {
   "cell_type": "code",
   "execution_count": null,
   "metadata": {},
   "outputs": [],
   "source": [
    "#grabbing youtube channel name to use in file name - replacing space with underscore\n",
    "\n",
    "yt_channel = df2.channel_name[0].lower()\n",
    "yt_channel = yt_channel.replace(' ', '_')"
   ]
  },
  {
   "cell_type": "code",
   "execution_count": null,
   "metadata": {},
   "outputs": [],
   "source": [
    "df2.to_csv(f'c:/Users/Diego/Documents/{yt_channel}_data_stats.csv')"
   ]
  },
  {
   "cell_type": "code",
   "execution_count": 51,
   "metadata": {},
   "outputs": [],
   "source": [
    "#importing natural language toolkit - sentiment analyzer\n",
    "\n",
    "import nltk\n",
    "from nltk.sentiment import SentimentIntensityAnalyzer"
   ]
  },
  {
   "cell_type": "code",
   "execution_count": 50,
   "metadata": {},
   "outputs": [],
   "source": [
    "analysis = SentimentIntensityAnalyzer()"
   ]
  },
  {
   "cell_type": "code",
   "execution_count": 85,
   "metadata": {},
   "outputs": [],
   "source": [
    "#grabbing a sample video id\n",
    "\n",
    "test_id = df2.video_id[0]"
   ]
  },
  {
   "cell_type": "code",
   "execution_count": 86,
   "metadata": {},
   "outputs": [],
   "source": [
    "#making api call to gather video comments\n",
    "\n",
    "url_comments = f'https://youtube.googleapis.com/youtube/v3/commentThreads?part=snippet&maxResults=10&videoId={test_id}&key={key}'\n",
    "comment_request = requests.get(url_comments).json()"
   ]
  },
  {
   "cell_type": "code",
   "execution_count": 95,
   "metadata": {},
   "outputs": [],
   "source": [
    "#variable assigned to random comment\n",
    "\n",
    "test_comment = comment_request['items'][3]['snippet']['topLevelComment']['snippet']['textDisplay']"
   ]
  },
  {
   "cell_type": "code",
   "execution_count": 98,
   "metadata": {},
   "outputs": [
    {
     "data": {
      "text/plain": [
       "\"Nice video,  the balance test wasn't very accurate. Balance beads would fail this test.\""
      ]
     },
     "execution_count": 98,
     "metadata": {},
     "output_type": "execute_result"
    }
   ],
   "source": [
    "test_comment.replace(\"&#39;\", \"'\")"
   ]
  },
  {
   "cell_type": "code",
   "execution_count": 99,
   "metadata": {},
   "outputs": [
    {
     "data": {
      "text/plain": [
       "{'neg': 0.191, 'neu': 0.656, 'pos': 0.153, 'compound': -0.1779}"
      ]
     },
     "execution_count": 99,
     "metadata": {},
     "output_type": "execute_result"
    }
   ],
   "source": [
    "#sentiment analysis\n",
    "\n",
    "analysis.polarity_scores(test_comment)"
   ]
  }
 ],
 "metadata": {
  "kernelspec": {
   "display_name": "Python 3",
   "language": "python",
   "name": "python3"
  },
  "language_info": {
   "codemirror_mode": {
    "name": "ipython",
    "version": 3
   },
   "file_extension": ".py",
   "mimetype": "text/x-python",
   "name": "python",
   "nbconvert_exporter": "python",
   "pygments_lexer": "ipython3",
   "version": "3.11.1"
  },
  "orig_nbformat": 4,
  "vscode": {
   "interpreter": {
    "hash": "0f07422c8c9e1a5686c084496b2f8305ae3e8042acf2136c1600afab83cd5077"
   }
  }
 },
 "nbformat": 4,
 "nbformat_minor": 2
}
