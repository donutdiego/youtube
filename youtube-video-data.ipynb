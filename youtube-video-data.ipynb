{
 "cells": [
  {
   "cell_type": "code",
   "execution_count": 1,
   "metadata": {},
   "outputs": [],
   "source": [
    "#import libraries\n",
    "\n",
    "import requests\n",
    "import pandas as pd\n",
    "import time\n",
    "import credentials"
   ]
  },
  {
   "cell_type": "code",
   "execution_count": 2,
   "metadata": {},
   "outputs": [],
   "source": [
    "key = credentials.youtube"
   ]
  },
  {
   "cell_type": "code",
   "execution_count": 6,
   "metadata": {},
   "outputs": [],
   "source": [
    "pageToken = ''\n",
    "url_video = 'https://www.googleapis.com/youtube/v3/search?key='+key+'&part=snippet&channelId=UCrPseYLGpNygVi34QpGNqpA&order=date&maxResults=1000&'+pageToken\n",
    "\n",
    "video_api = requests.get(url_video).json()"
   ]
  },
  {
   "cell_type": "code",
   "execution_count": 13,
   "metadata": {},
   "outputs": [],
   "source": [
    "def get_video_stats(video_id):\n",
    "    url_stats = 'https://www.googleapis.com/youtube/v3/videos?key='+key+'&part=statistics&id='+video_id\n",
    "    stats_api = requests.get(url_stats).json()\n",
    "\n",
    "    views = stats_api['items'][0]['statistics']['viewCount']\n",
    "    likes = stats_api['items'][0]['statistics']['likeCount']\n",
    "    comments = stats_api['items'][0]['statistics']['commentCount']\n",
    "\n",
    "    return views, likes, comments\n"
   ]
  }
 ],
 "metadata": {
  "kernelspec": {
   "display_name": "Python 3",
   "language": "python",
   "name": "python3"
  },
  "language_info": {
   "codemirror_mode": {
    "name": "ipython",
    "version": 3
   },
   "file_extension": ".py",
   "mimetype": "text/x-python",
   "name": "python",
   "nbconvert_exporter": "python",
   "pygments_lexer": "ipython3",
   "version": "3.11.1"
  },
  "orig_nbformat": 4,
  "vscode": {
   "interpreter": {
    "hash": "0f07422c8c9e1a5686c084496b2f8305ae3e8042acf2136c1600afab83cd5077"
   }
  }
 },
 "nbformat": 4,
 "nbformat_minor": 2
}
