{
 "cells": [
  {
   "cell_type": "code",
   "execution_count": null,
   "metadata": {},
   "outputs": [],
   "source": [
    "#import libraries\n",
    "\n",
    "import requests\n",
    "import pandas as pd\n",
    "import time\n",
    "import credentials"
   ]
  },
  {
   "cell_type": "code",
   "execution_count": null,
   "metadata": {},
   "outputs": [],
   "source": [
    "#api key imported from separate file\n",
    "\n",
    "key = credentials.youtube"
   ]
  },
  {
   "cell_type": "code",
   "execution_count": null,
   "metadata": {},
   "outputs": [],
   "source": [
    "channel_id = input('Channel Id: ').split('/')[4]"
   ]
  },
  {
   "cell_type": "code",
   "execution_count": null,
   "metadata": {},
   "outputs": [],
   "source": [
    "#extracting video statistics and returning values\n",
    "\n",
    "def get_video_stats(video_id):\n",
    "    url_stats = f'https://www.googleapis.com/youtube/v3/videos?key={key}&part=statistics&id={video_id}'\n",
    "    stats_api = requests.get(url_stats).json()\n",
    "\n",
    "    views = stats_api['items'][0]['statistics']['viewCount']\n",
    "    likes = stats_api['items'][0]['statistics']['likeCount']\n",
    "    comments = stats_api['items'][0]['statistics']['commentCount']\n",
    "\n",
    "    return views, likes, comments"
   ]
  },
  {
   "cell_type": "code",
   "execution_count": null,
   "metadata": {},
   "outputs": [],
   "source": [
    "#function to pass dataframe - create temporary dataframe and concat to passed dataframe\n",
    "\n",
    "def get_video(df): #passing dataframe\n",
    "    pageToken = ''\n",
    "    while 1:\n",
    "        url_video = f'https://www.googleapis.com/youtube/v3/search?key={key}&channelId={channel_id}&part=snippet&type=video&order=date&maxResults=50&{pageToken}'\n",
    "        video_api = requests.get(url_video).json()\n",
    "\n",
    "        time.sleep(1.5)\n",
    "        for video in video_api['items'] :\n",
    "            channel_name = video['snippet']['channelTitle']\n",
    "            video_title = video['snippet']['title']\n",
    "            video_id = video['id']['videoId']\n",
    "            \n",
    "            views, likes, comments = get_video_stats(video_id)\n",
    "\n",
    "            temp_df = pd.DataFrame({\n",
    "            'channel_name' : [channel_name],\n",
    "            'video_title' : [video_title],\n",
    "            'video_id' : [video_id],\n",
    "            'views' : [views],\n",
    "            'likes' : [likes],\n",
    "            'comments' : [comments]})\n",
    "\n",
    "            df = pd.concat([df, temp_df], ignore_index=True)\n",
    "\n",
    "        try:\n",
    "            if video_api['nextPageToken'] != None:\n",
    "                pageToken = 'pageToken=' + video_api['nextPageToken']\n",
    "        except:\n",
    "            break\n",
    "\n",
    "    return df"
   ]
  },
  {
   "cell_type": "code",
   "execution_count": null,
   "metadata": {},
   "outputs": [],
   "source": [
    "#creating dataframe to pass through functions\n",
    "\n",
    "df = pd.DataFrame(columns=['channel_name','video_title','video_id','views','likes','comments','pos_sentiment','neutral','neg_sentiment'])\n",
    "\n",
    "main_frame = get_video(df)"
   ]
  },
  {
   "cell_type": "code",
   "execution_count": null,
   "metadata": {},
   "outputs": [],
   "source": [
    "#grabbing youtube channel name to use in file name - replacing space with underscore\n",
    "\n",
    "yt_channel = main_frame.channel_name[0].lower()\n",
    "yt_channel = yt_channel.replace(' ', '_')"
   ]
  },
  {
   "cell_type": "code",
   "execution_count": null,
   "metadata": {},
   "outputs": [],
   "source": [
    "main_frame.head()"
   ]
  },
  {
   "cell_type": "code",
   "execution_count": null,
   "metadata": {},
   "outputs": [],
   "source": [
    "main_frame.to_csv(f'c:/Users/Diego/Documents/GitHub/youtube-comment-sentiment/Channel Data/{yt_channel}_data_stats.csv')"
   ]
  }
 ],
 "metadata": {
  "kernelspec": {
   "display_name": "Python 3",
   "language": "python",
   "name": "python3"
  },
  "language_info": {
   "codemirror_mode": {
    "name": "ipython",
    "version": 3
   },
   "file_extension": ".py",
   "mimetype": "text/x-python",
   "name": "python",
   "nbconvert_exporter": "python",
   "pygments_lexer": "ipython3",
   "version": "3.11.1"
  },
  "orig_nbformat": 4,
  "vscode": {
   "interpreter": {
    "hash": "5238573367df39f7286bb46f9ff5f08f63a01a80960060ce41e3c79b190280fa"
   }
  }
 },
 "nbformat": 4,
 "nbformat_minor": 2
}
