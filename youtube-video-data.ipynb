{
 "cells": [
  {
   "cell_type": "code",
   "execution_count": 6,
   "metadata": {},
   "outputs": [],
   "source": [
    "#import libraries\n",
    "\n",
    "import requests\n",
    "import pandas as pd\n",
    "import time\n",
    "import credentials"
   ]
  },
  {
   "cell_type": "code",
   "execution_count": 7,
   "metadata": {},
   "outputs": [],
   "source": [
    "key = credentials.youtube"
   ]
  },
  {
   "cell_type": "code",
   "execution_count": 9,
   "metadata": {},
   "outputs": [],
   "source": [
    "url_video = 'https://www.googleapis.com/youtube/v3/search?key='+key+'&part=snippet&channelId=UCrPseYLGpNygVi34QpGNqpA&order=date&maxResults=1000&'\n",
    "\n",
    "video_api = requests.get(url_video).json()"
   ]
  },
  {
   "cell_type": "code",
   "execution_count": 10,
   "metadata": {},
   "outputs": [],
   "source": [
    "def get_video_stats(video_id):\n",
    "    url_stats = 'https://www.googleapis.com/youtube/v3/videos?key='+key+'&part=statistics&id='+video_id\n",
    "    stats_api = requests.get(url_stats).json()\n",
    "\n",
    "    views = stats_api['items'][0]['statistics']['viewCount']\n",
    "    likes = stats_api['items'][0]['statistics']['likeCount']\n",
    "    comments = stats_api['items'][0]['statistics']['commentCount']\n",
    "\n",
    "    return views, likes, comments"
   ]
  },
  {
   "cell_type": "code",
   "execution_count": 13,
   "metadata": {},
   "outputs": [],
   "source": [
    "def get_video(df): #passing dataframe as a parameter\n",
    "    pageToken = ''\n",
    "    while 1:\n",
    "        url_video = 'https://www.googleapis.com/youtube/v3/search?key='+key+'&channelId=UCrPseYLGpNygVi34QpGNqpA&part=snippet&order=date&maxResults=1000'+pageToken\n",
    "        video_api = requests.get(url_video).json()\n",
    "\n",
    "        time.sleep(1.5)\n",
    "        for video in video_api['items'] :\n",
    "            if video_api['kind'] == 'youtube#searchListResponse' :\n",
    "                channel_name = video['snippet']['channelTitle']\n",
    "                video_title = video['snippet']['title']\n",
    "                video_id = video['id']['videoId']\n",
    "                \n",
    "                views, likes, comments = get_video_stats(video_id)\n",
    "\n",
    "                temp_df = pd.DataFrame({\n",
    "                'channel_name' : [channel_name],\n",
    "                'video_title' : [video_title],\n",
    "                'video_id' : [video_id],\n",
    "                'views' : [views],\n",
    "                'likes' : [likes],\n",
    "                'comments' : [comments]})\n",
    "\n",
    "                df = pd.concat([df, temp_df], ignore_index=True)\n",
    "\n",
    "            try:\n",
    "                if video_api['nextPageToken'] != None:\n",
    "                    pageToken = '&pageToken=' + video_api['nextPageToken']\n",
    "            except:\n",
    "                break\n",
    "\n",
    "    return df"
   ]
  },
  {
   "cell_type": "code",
   "execution_count": 14,
   "metadata": {},
   "outputs": [
    {
     "ename": "KeyError",
     "evalue": "'items'",
     "output_type": "error",
     "traceback": [
      "\u001b[1;31m---------------------------------------------------------------------------\u001b[0m",
      "\u001b[1;31mKeyError\u001b[0m                                  Traceback (most recent call last)",
      "Cell \u001b[1;32mIn [14], line 3\u001b[0m\n\u001b[0;32m      1\u001b[0m df \u001b[39m=\u001b[39m pd\u001b[39m.\u001b[39mDataFrame(columns\u001b[39m=\u001b[39m[\u001b[39m'\u001b[39m\u001b[39mchannel_name\u001b[39m\u001b[39m'\u001b[39m,\u001b[39m'\u001b[39m\u001b[39mvideo_title\u001b[39m\u001b[39m'\u001b[39m,\u001b[39m'\u001b[39m\u001b[39mvideo_id\u001b[39m\u001b[39m'\u001b[39m,\u001b[39m'\u001b[39m\u001b[39mviews\u001b[39m\u001b[39m'\u001b[39m,\u001b[39m'\u001b[39m\u001b[39mlikes\u001b[39m\u001b[39m'\u001b[39m,\u001b[39m'\u001b[39m\u001b[39mcomments\u001b[39m\u001b[39m'\u001b[39m,\u001b[39m'\u001b[39m\u001b[39mpos_sentiment\u001b[39m\u001b[39m'\u001b[39m,\u001b[39m'\u001b[39m\u001b[39mneutral\u001b[39m\u001b[39m'\u001b[39m,\u001b[39m'\u001b[39m\u001b[39mneg_sentiment\u001b[39m\u001b[39m'\u001b[39m])\n\u001b[1;32m----> 3\u001b[0m df2 \u001b[39m=\u001b[39m get_video(df)\n",
      "Cell \u001b[1;32mIn [13], line 8\u001b[0m, in \u001b[0;36mget_video\u001b[1;34m(df)\u001b[0m\n\u001b[0;32m      5\u001b[0m video_api \u001b[39m=\u001b[39m requests\u001b[39m.\u001b[39mget(url_video)\u001b[39m.\u001b[39mjson()\n\u001b[0;32m      7\u001b[0m time\u001b[39m.\u001b[39msleep(\u001b[39m1.5\u001b[39m)\n\u001b[1;32m----> 8\u001b[0m \u001b[39mfor\u001b[39;00m video \u001b[39min\u001b[39;00m video_api[\u001b[39m'\u001b[39;49m\u001b[39mitems\u001b[39;49m\u001b[39m'\u001b[39;49m] :\n\u001b[0;32m      9\u001b[0m     \u001b[39mif\u001b[39;00m video_api[\u001b[39m'\u001b[39m\u001b[39mkind\u001b[39m\u001b[39m'\u001b[39m] \u001b[39m==\u001b[39m \u001b[39m'\u001b[39m\u001b[39myoutube#searchListResponse\u001b[39m\u001b[39m'\u001b[39m :\n\u001b[0;32m     10\u001b[0m         channel_name \u001b[39m=\u001b[39m video[\u001b[39m'\u001b[39m\u001b[39msnippet\u001b[39m\u001b[39m'\u001b[39m][\u001b[39m'\u001b[39m\u001b[39mchannelTitle\u001b[39m\u001b[39m'\u001b[39m]\n",
      "\u001b[1;31mKeyError\u001b[0m: 'items'"
     ]
    }
   ],
   "source": [
    "df = pd.DataFrame(columns=['channel_name','video_title','video_id','views','likes','comments','pos_sentiment','neutral','neg_sentiment'])\n",
    "\n",
    "df2 = get_video(df)"
   ]
  },
  {
   "cell_type": "code",
   "execution_count": null,
   "metadata": {},
   "outputs": [],
   "source": [
    "for video in video_api['items'] :\n",
    "    #time.sleep(1)\n",
    "    if video_api['items'][0]['id']['kind'] == 'youtube#video' :\n",
    "        channel_name = video['snippet']['channelTitle']\n",
    "        video_title = video['snippet']['title']\n",
    "        video_id = video['id']['videoId']\n",
    "\n",
    "        views, likes, comments = get_video_stats(video_id)\n",
    "\n",
    "        channel_metrics = pd.DataFrame({\n",
    "        'channel_name' : [channel_name],\n",
    "        'video_title' : [video_title],\n",
    "        'video_id' : [video_id],\n",
    "        'views' : [views],\n",
    "        'likes' : [likes],\n",
    "        'comments' : [comments]\n",
    "        })\n",
    "\n",
    "        metrics = pd.concat([metrics, channel_metrics], ignore_index=True)\n",
    "\n",
    "    try:\n",
    "        if video_api['nextPageToken'] != None:\n",
    "            pageToken = 'pageToken=' + video_api['nextPageToken']\n",
    "    except:\n",
    "        break"
   ]
  },
  {
   "cell_type": "code",
   "execution_count": null,
   "metadata": {},
   "outputs": [],
   "source": [
    "metrics2.info()"
   ]
  }
 ],
 "metadata": {
  "kernelspec": {
   "display_name": "Python 3",
   "language": "python",
   "name": "python3"
  },
  "language_info": {
   "codemirror_mode": {
    "name": "ipython",
    "version": 3
   },
   "file_extension": ".py",
   "mimetype": "text/x-python",
   "name": "python",
   "nbconvert_exporter": "python",
   "pygments_lexer": "ipython3",
   "version": "3.11.1"
  },
  "orig_nbformat": 4,
  "vscode": {
   "interpreter": {
    "hash": "0f07422c8c9e1a5686c084496b2f8305ae3e8042acf2136c1600afab83cd5077"
   }
  }
 },
 "nbformat": 4,
 "nbformat_minor": 2
}
