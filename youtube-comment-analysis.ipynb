{
 "cells": [
  {
   "cell_type": "code",
   "execution_count": null,
   "metadata": {},
   "outputs": [],
   "source": [
    "#import libraries\n",
    "\n",
    "import pandas as pd\n",
    "import requests\n",
    "import credentials\n",
    "import time\n",
    "\n",
    "from nltk.sentiment import SentimentIntensityAnalyzer"
   ]
  },
  {
   "cell_type": "code",
   "execution_count": null,
   "metadata": {},
   "outputs": [],
   "source": [
    "#importing key from separate python file\n",
    "\n",
    "key = credentials.youtube"
   ]
  },
  {
   "cell_type": "code",
   "execution_count": null,
   "metadata": {},
   "outputs": [],
   "source": [
    "sentiment_analyzer = SentimentIntensityAnalyzer()"
   ]
  },
  {
   "cell_type": "code",
   "execution_count": null,
   "metadata": {},
   "outputs": [],
   "source": [
    "#importing data\n",
    "\n",
    "path = \"c:/Users/Diego/\"\n",
    "import_df = pd.read_csv(path)"
   ]
  },
  {
   "cell_type": "code",
   "execution_count": null,
   "metadata": {},
   "outputs": [],
   "source": [
    "#inputs comments to return sentiment scores\n",
    "\n",
    "def get_sentiment_values(comment) : \n",
    "    sentiment = sentiment_analyzer.polarity_scores(comment)\n",
    "\n",
    "    pos = sentiment['pos']\n",
    "    neu = sentiment['neu']\n",
    "    neg = sentiment['neg']\n",
    "    comp = sentiment['compound']\n",
    "\n",
    "    return pos, neu, neg, comp"
   ]
  },
  {
   "cell_type": "code",
   "execution_count": null,
   "metadata": {},
   "outputs": [],
   "source": [
    "def get_sentiment(df) : \n",
    "\n",
    "    for index, row in temp.iterrows():\n",
    "        video_id = row['video_id']\n",
    "        pageToken = ''\n",
    "        \n",
    "        while 1:\n",
    "            url_comments = f'https://youtube.googleapis.com/youtube/v3/commentThreads?part=snippet&maxResults=100&videoId={video_id}&key={key}&order=relevance&{pageToken}'\n",
    "            comment_api = requests.get(url_comments).json()\n",
    "        \n",
    "            time.sleep(1)\n",
    "            for comments in comment_api['items'] :\n",
    "                comment = comments['snippet']['topLevelComment']['snippet']['textDisplay']\n",
    "\n",
    "                pos, neu, neg, comp = get_sentiment_values(comment)\n",
    "\n",
    "                temp_df = pd.DataFrame({\n",
    "                    'video_id' : [video_id],\n",
    "                    'pos' : [pos],\n",
    "                    'neu' : [neu],\n",
    "                    'neg' : [neg],\n",
    "                    'comp' : [comp]})\n",
    "\n",
    "                df = pd.concat([df, temp_df], ignore_index=True)\n",
    "\n",
    "            try: \n",
    "                if comment_api['nextPageToken'] != None:\n",
    "                    pageToken = 'pageToken=' + comment_api['nextPageToken']\n",
    "            except:\n",
    "                break\n",
    "\n",
    "    return df"
   ]
  },
  {
   "cell_type": "code",
   "execution_count": null,
   "metadata": {},
   "outputs": [],
   "source": [
    "df = pd.DataFrame(columns=['video_id','pos','neu','neg','comp'])\n",
    "\n",
    "dfn = get_sentiment(df)"
   ]
  },
  {
   "cell_type": "code",
   "execution_count": null,
   "metadata": {},
   "outputs": [],
   "source": [
    "#calculating sentiment value mean of each video\n",
    "\n",
    "main_df = dfn.groupby(['video_id']).mean().round(2)"
   ]
  },
  {
   "cell_type": "code",
   "execution_count": null,
   "metadata": {},
   "outputs": [],
   "source": [
    "main_df"
   ]
  },
  {
   "cell_type": "code",
   "execution_count": null,
   "metadata": {},
   "outputs": [],
   "source": [
    "main_df.to_csv('c:/Users/Diego/Downloads/sample.csv')"
   ]
  }
 ],
 "metadata": {
  "kernelspec": {
   "display_name": "Python 3",
   "language": "python",
   "name": "python3"
  },
  "language_info": {
   "codemirror_mode": {
    "name": "ipython",
    "version": 3
   },
   "file_extension": ".py",
   "mimetype": "text/x-python",
   "name": "python",
   "nbconvert_exporter": "python",
   "pygments_lexer": "ipython3",
   "version": "3.11.1"
  },
  "orig_nbformat": 4,
  "vscode": {
   "interpreter": {
    "hash": "0f07422c8c9e1a5686c084496b2f8305ae3e8042acf2136c1600afab83cd5077"
   }
  }
 },
 "nbformat": 4,
 "nbformat_minor": 2
}
