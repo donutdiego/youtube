{
 "cells": [
  {
   "cell_type": "code",
   "execution_count": null,
   "metadata": {},
   "outputs": [],
   "source": [
    "#import libraries\n",
    "\n",
    "import pandas as pd\n",
    "import requests\n",
    "import credentials\n",
    "import time\n",
    "\n",
    "from nltk.sentiment import SentimentIntensityAnalyzer"
   ]
  },
  {
   "cell_type": "code",
   "execution_count": null,
   "metadata": {},
   "outputs": [],
   "source": [
    "key = credentials.youtube"
   ]
  },
  {
   "cell_type": "code",
   "execution_count": null,
   "metadata": {},
   "outputs": [],
   "source": [
    "sentiment_analyzer = SentimentIntensityAnalyzer()"
   ]
  },
  {
   "cell_type": "code",
   "execution_count": null,
   "metadata": {},
   "outputs": [],
   "source": [
    "data_f = pd.read_csv('c:/Users/Diego/Documents/GitHub/youtube-comment-sentiment/Channel Data/ludwig_data_stats.csv')"
   ]
  },
  {
   "cell_type": "code",
   "execution_count": null,
   "metadata": {},
   "outputs": [],
   "source": [
    "sample_f = data_f.head(50)"
   ]
  },
  {
   "cell_type": "code",
   "execution_count": null,
   "metadata": {},
   "outputs": [],
   "source": [
    "def get_values(comment) :\n",
    "    senti = sentiment_analyzer.polarity_scores(comment)\n",
    "\n",
    "    pos = senti['pos']\n",
    "    neu = senti['neu']\n",
    "    neg = senti['neg']\n",
    "\n",
    "    return pos, neu, neg"
   ]
  },
  {
   "cell_type": "code",
   "execution_count": null,
   "metadata": {},
   "outputs": [],
   "source": [
    "def get_average(df) :\n",
    "    main_df = df.groupby(['video_id']).mean().round(2)\n",
    "\n",
    "    return main_df"
   ]
  },
  {
   "cell_type": "code",
   "execution_count": null,
   "metadata": {},
   "outputs": [],
   "source": [
    "def get_sentiment(df) :\n",
    "\n",
    "    for index, row in sample_f.iterrows():\n",
    "        video_id = row['video_id']\n",
    "\n",
    "        url_comments = f'https://youtube.googleapis.com/youtube/v3/commentThreads?part=snippet&maxResults=1000&videoId={video_id}&key={key}&order=relevance'\n",
    "        comment_api = requests.get(url_comments).json()\n",
    "    \n",
    "        for comments in comment_api['items'] :\n",
    "            #video_id = 'k0f4KyujyVw'\n",
    "\n",
    "            comment = comments['snippet']['topLevelComment']['snippet']['textDisplay']\n",
    "\n",
    "            pos, neu, neg = get_values(comment)\n",
    "\n",
    "            temp_df = pd.DataFrame({\n",
    "                'video_id' : [video_id],\n",
    "                'pos' : [pos],\n",
    "                'neu' : [neu],\n",
    "                'neg' : [neg]})\n",
    "\n",
    "            df = pd.concat([df, temp_df], ignore_index=True)\n",
    "\n",
    "            avg_df = get_average(df)\n",
    "\n",
    "    return avg_df"
   ]
  },
  {
   "cell_type": "code",
   "execution_count": null,
   "metadata": {},
   "outputs": [],
   "source": [
    "df = pd.DataFrame(columns=['video_id','pos','neu','neg'])\n",
    "\n",
    "main_df = get_sentiment(df)"
   ]
  },
  {
   "cell_type": "code",
   "execution_count": null,
   "metadata": {},
   "outputs": [],
   "source": [
    "main_df"
   ]
  },
  {
   "cell_type": "code",
   "execution_count": null,
   "metadata": {},
   "outputs": [],
   "source": [
    "main_df[['pos','neu','neg']] = main_df[['pos','neu','neg']].applymap(lambda x: \"{:.2%}\".format(x))"
   ]
  },
  {
   "cell_type": "code",
   "execution_count": null,
   "metadata": {},
   "outputs": [],
   "source": [
    "main_df"
   ]
  }
 ],
 "metadata": {
  "kernelspec": {
   "display_name": "Python 3",
   "language": "python",
   "name": "python3"
  },
  "language_info": {
   "codemirror_mode": {
    "name": "ipython",
    "version": 3
   },
   "file_extension": ".py",
   "mimetype": "text/x-python",
   "name": "python",
   "nbconvert_exporter": "python",
   "pygments_lexer": "ipython3",
   "version": "3.11.1"
  },
  "orig_nbformat": 4,
  "vscode": {
   "interpreter": {
    "hash": "0f07422c8c9e1a5686c084496b2f8305ae3e8042acf2136c1600afab83cd5077"
   }
  }
 },
 "nbformat": 4,
 "nbformat_minor": 2
}
